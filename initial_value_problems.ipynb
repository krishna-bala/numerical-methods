{
 "cells": [
  {
   "cell_type": "markdown",
   "metadata": {},
   "source": [
    "# Initial Value Problems and ODEs\n",
    "\n",
    "Consider an ODE:\n",
    "\n",
    "$$ \n",
    "\\begin{align}\n",
    "\\frac{dy(t)}{dt} = -3y(t)\\sin(t), && y(t=0) = \\frac{\\pi}{\\sqrt{2}},\n",
    "\\end{align}\n",
    "$$\n",
    "\n",
    "The exact solution is $ y(t) = \\pi e^{3(\\cos{t-1})}/\\sqrt{2}$. <br>\n",
    "**TODO: Need to show work...**"
   ]
  },
  {
   "cell_type": "markdown",
   "metadata": {},
   "source": [
    "### Forward Euler Method\n",
    "While it is nice to have the exact solution, we can also implement the forward Euler method to solve this ODE numerically:\n",
    "$$ y(t_{n+1}) = y(t_n) + \\Delta t f(t_n,y(t_n))$$\n",
    "\n",
    "where $f(t_n, y(t_n) ) = \\frac{dy(t)}{dt} = -3y(t)\\sin(t) $\n",
    "\n",
    "Let $ t = [0 : \\Delta t: 5]$, where $\\Delta t = 2^{-2}, 2^{-3}, \\dots, t^{-8}$. \n",
    "\n",
    "We can use the forward Euler method to evaluate the function at each time $t$. To evaluate the accuracy, we can calculate the error from the exact solution, $|y_{true} - y_{num}|$, for each $t = [0 : \\Delta t: 5]$.\n",
    "\n",
    "The average error over all time steps for each step size $\\Delta t$ is listed below, as well as a plot of the log (err) vs. log ($\\Delta t$). Using polyfit, we can find the slope of the best fit line through this data, using the order of the forward Euler method. In this instance, it is a first order system, so we will only fit a polynomial of degree 1."
   ]
  },
  {
   "cell_type": "code",
   "execution_count": 113,
   "metadata": {},
   "outputs": [],
   "source": [
    "import numpy as np\n",
    "import matplotlib\n",
    "from matplotlib import pyplot as plt\n",
    "%matplotlib inline"
   ]
  },
  {
   "cell_type": "code",
   "execution_count": 114,
   "metadata": {},
   "outputs": [
    {
     "name": "stdout",
     "output_type": "stream",
     "text": [
      "dt \t = 0.25\n",
      "Avg Err  = 0.06707493251430062\n",
      "\n",
      "dt \t = 0.125\n",
      "Avg Err  = 0.037510198337030974\n",
      "\n",
      "dt \t = 0.0625\n",
      "Avg Err  = 0.020448082228290112\n",
      "\n",
      "dt \t = 0.03125\n",
      "Avg Err  = 0.010795019069449472\n",
      "\n",
      "dt \t = 0.015625\n",
      "Avg Err  = 0.005565428953161987\n",
      "\n",
      "dt \t = 0.0078125\n",
      "Avg Err  = 0.0028286509093506363\n",
      "\n",
      "dt \t = 0.00390625\n",
      "Avg Err  = 0.001426316950608694\n",
      "\n"
     ]
    },
    {
     "data": {
      "text/plain": [
       "[<matplotlib.lines.Line2D at 0x7f0067b20550>]"
      ]
     },
     "execution_count": 114,
     "metadata": {},
     "output_type": "execute_result"
    },
    {
     "data": {
      "image/png": "[encoded data removed]",
      "text/plain": [
       "<Figure size 576x576 with 1 Axes>"
      ]
     },
     "metadata": {
      "needs_background": "light"
     },
     "output_type": "display_data"
    }
   ],
   "source": [
    "# Exact Solution\n",
    "y = lambda t: np.pi * np.exp(3*(np.cos(t)-1)) / np.sqrt(2)\n",
    "\n",
    "# Function for Forward Euler\n",
    "f1 = lambda tn, yn: -3 * yn * np.sin(tn)\n",
    "\n",
    "# Function for Heun's Method\n",
    "# f2 = lambda tn, yn, dt, f1: -3 * (yn + dt * f1(tn,yn) * np.sin(tn + dt))\n",
    "\n",
    "# Initial value\n",
    "y0 = np.pi/np.sqrt(2)\n",
    "\n",
    "# Initial time\n",
    "t0 = 0\n",
    "\n",
    "# Final time\n",
    "tf = 5\n",
    "\n",
    "# Step sizes to evaluate\n",
    "dt = [2**(-2), 2**(-3), 2**(-4), 2**(-5), 2**(-6), 2**(-7), 2**(-8)]\n",
    "\n",
    "\n",
    "def y_fe(y, f1, y0, t0, tf, dt):\n",
    "    \"\"\"\n",
    "    Forward Euler function.\n",
    "    \"\"\"\n",
    "    \n",
    "    err = [0]\n",
    "    yn1 = [y0]\n",
    "    num_points = int( (tf - dt) / dt)\n",
    "    points = np.linspace(dt, tf, num_points + 1)\n",
    "    \n",
    "    for i in points:\n",
    "        yn1_next = yn1[-1] + dt * f1(i - dt, yn1[-1])\n",
    "        yn1.append(yn1_next)\n",
    "        error = np.abs(y(i) - yn1[-1])\n",
    "        err.append(error)\n",
    "        \n",
    "    mean_error = np.average(err)\n",
    "    \n",
    "    return yn1, mean_error\n",
    "        \n",
    "\n",
    "# Average error over all steps evaluated in forward Euler for each dt (t0 to tf, step size: dt)\n",
    "err_fe = []\n",
    "\n",
    "# Calculate forward Euler and error for each dt\n",
    "for i in range(len(dt)):\n",
    "    \n",
    "    params = {'y':y, 'f1':f1, 'y0':y0, 't0':t0, 'tf':tf, 'dt':dt[i]}\n",
    "    yn1, mean_err = y_fe(**params)\n",
    "    err_fe.append(mean_err)\n",
    "    print(f'dt \\t = {dt[i]}')\n",
    "    print(f'Avg Err  = {err_fe[-1]}')\n",
    "    print()\n",
    "\n",
    "log_dt = np.log(dt)\n",
    "log_err_fe = np.log(err_fe)\n",
    "\n",
    "plt.figure(figsize=[8,8])\n",
    "plt.xlabel('log delta t')\n",
    "plt.ylabel('avg err')\n",
    "plt.title('Log Average Error vs. Log Step Size')\n",
    "plt.scatter(log_dt, log_err_fe, s=100, alpha=.5)\n",
    "\n",
    "fit = np.polyfit(log_dt, log_err_fe, 1)\n",
    "\n",
    "polyfit_func = lambda t: fit[0] * t + fit[1]\n",
    "polyfit_data = []\n",
    "for i in log_dt:\n",
    "    polyfit_data.append(polyfit_func(i))\n",
    "    \n",
    "plt.plot(log_dt, polyfit_data)"
   ]
  },
  {
   "cell_type": "code",
   "execution_count": null,
   "metadata": {},
   "outputs": [],
   "source": []
  },
  {
   "cell_type": "code",
   "execution_count": null,
   "metadata": {},
   "outputs": [],
   "source": []
  }
 ],
 "metadata": {
  "kernelspec": {
   "display_name": "Python 3",
   "language": "python",
   "name": "python3"
  },
  "language_info": {
   "codemirror_mode": {
    "name": "ipython",
    "version": 3
   },
   "file_extension": ".py",
   "mimetype": "text/x-python",
   "name": "python",
   "nbconvert_exporter": "python",
   "pygments_lexer": "ipython3",
   "version": "3.8.6"
  }
 },
 "nbformat": 4,
 "nbformat_minor": 4
}
