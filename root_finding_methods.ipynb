{
 "cells": [
  {
   "cell_type": "markdown",
   "metadata": {},
   "source": [
    "# Newton-Raphson Method\n",
    "\n",
    "Root-Finding Formula:\n",
    "$$x^{k+1} = x^k - \\frac{f(x^k)}{f'(x^k)}$$\n",
    "\n",
    "#### Example:\n",
    "Consider the function\n",
    "$$f(x) = x\\sin(3x) - e^x$$\n",
    "\n",
    "Find the root of $f(x) = 0$ near $x^1 = -1.6$ using Newton-Raphson Method. Consider convergence to a solution when $|f(x)| < 10^{-6}$."
   ]
  },
  {
   "cell_type": "markdown",
   "metadata": {},
   "source": [
    "#### Solution:\n",
    "\n",
    "Calculate the first derivative:\n",
    "$$f'(x) = 3x\\cos{(3x)} + \\sin{(3x)} - e^x$$"
   ]
  },
  {
   "cell_type": "code",
   "execution_count": 4,
   "metadata": {},
   "outputs": [
    {
     "name": "stdout",
     "output_type": "stream",
     "text": [
      "x(0) = -1.600000 \t f(x) = -1.795760\n",
      "x(1) = 3.197995 \t f(x) = -25.021941\n",
      "x(2) = 2.464402 \t f(x) = -9.549069\n",
      "x(3) = 1.203536 \t f(x) = -3.875885\n",
      "x(4) = 0.650201 \t f(x) = -1.312061\n",
      "x(5) = -0.116923 \t f(x) = -0.849476\n",
      "x(6) = -0.660523 \t f(x) = 0.088995\n",
      "x(7) = -0.521927 \t f(x) = -0.071456\n",
      "x(8) = -0.566553 \t f(x) = -0.005623\n",
      "x(9) = -0.570747 \t f(x) = -0.000057\n",
      "\n",
      "Solution:\n",
      " x(10) = -0.570790 \t f(x) = -0.00000001\n"
     ]
    }
   ],
   "source": [
    "import numpy as np\n",
    "\n",
    "# Define f(x), f'(x), and x_k1 functions\n",
    "f_x = lambda x : x*np.sin(3*x)-np.exp(x)\n",
    "f_xdot = lambda x : 3*x*np.cos(3*x) + np.sin(3*x) - np.exp(x)\n",
    "x_k1 = lambda x : x - f_x(x)/f_xdot(x)\n",
    "\n",
    "# Initial Guess\n",
    "x = [-1.6]\n",
    "\n",
    "# Iteration counter\n",
    "i = 0\n",
    "\n",
    "# While function evaluated at x(i) is above convergence limit\n",
    "while np.abs(f_x(x[i])) >= 10**(-6):\n",
    "    print(\"x(%d) = %0.6f \\t f(x) = %0.6f\" % (i, x[i], f_x(x[i])))\n",
    "    x_knext = x_k1(x[i])\n",
    "    x.append(x_knext)\n",
    "    i += 1\n",
    "\n",
    "print(\"\\nSolution:\\n x(%d) = %0.6f \\t f(x) = %0.8f\" %(i, x[i], f_x(x[i])))"
   ]
  },
  {
   "cell_type": "markdown",
   "metadata": {},
   "source": [
    "# Bisection Method:\n",
    "\n",
    "Psuedocode:\n",
    "* Choose $a$ and $b$ such that $f(a) < 0 $ and $f(b) > 0$\n",
    "* Calculate $c$, the midpoint of $a$ and $b$\n",
    "* **If** $|f(c)| < L$ where $L$ is our convergence criterion, return $c$\n",
    "* **Else**:\n",
    "    * Evaluate $\\text{sign}(f(c))$\n",
    "    * **If** $f(c) < 0 $, update $a:=c$\n",
    "    * **Else** update $b:=c$\n",
    "    \n",
    "#### Example:\n",
    "Consider the function\n",
    "$$f(x) = x\\sin(3x) - e^x$$\n",
    "\n",
    "Find the root of $f(x) = 0$ using Bisection Method with initial end points x = -0.7 and x = -0.4. Consider convergence to a solution when $|f(x)| < 10^{-6}$.\n",
    "\n",
    "#### Solution:"
   ]
  },
  {
   "cell_type": "code",
   "execution_count": 5,
   "metadata": {},
   "outputs": [
    {
     "name": "stdout",
     "output_type": "stream",
     "text": [
      "x(0) = -0.550000 \t f(x) = -0.02867404\n",
      "x(1) = -0.625000 \t f(x) = 0.06104218\n",
      "x(2) = -0.587500 \t f(x) = 0.02102278\n",
      "x(3) = -0.568750 \t f(x) = -0.00269244\n",
      "x(4) = -0.578125 \t f(x) = 0.00945834\n",
      "x(5) = -0.573438 \t f(x) = 0.00345503\n",
      "x(6) = -0.571094 \t f(x) = 0.00039916\n",
      "x(7) = -0.569922 \t f(x) = -0.00114219\n",
      "x(8) = -0.570508 \t f(x) = -0.00037040\n",
      "x(9) = -0.570801 \t f(x) = 0.00001466\n",
      "x(10) = -0.570654 \t f(x) = -0.00017780\n",
      "x(11) = -0.570728 \t f(x) = -0.00008156\n",
      "x(12) = -0.570764 \t f(x) = -0.00003345\n",
      "x(13) = -0.570782 \t f(x) = -0.00000939\n",
      "x(14) = -0.570792 \t f(x) = 0.00000263\n",
      "x(15) = -0.570787 \t f(x) = -0.00000338\n",
      "\n",
      "Solution:\n",
      " x(16) = -0.570789 \t f(x) = -0.0000004\n"
     ]
    }
   ],
   "source": [
    "# Initialize a, b, and c\n",
    "a = -0.7\n",
    "b = -0.4\n",
    "c = [(a + b) / 2.0]\n",
    "\n",
    "# Initialize iteration counter\n",
    "i = 0\n",
    "\n",
    "# While function evaluated at c(i) is above convergence limit\n",
    "while np.abs(f_x(c[i])) >= 10**(-6):\n",
    "    print(\"x(%d) = %0.6f \\t f(x) = %0.8f\" % (i, c[i], f_x(c[i])))\n",
    "    if f_x(a)*f_x(c[i]) < 0:\n",
    "        b = c[i]\n",
    "    else:\n",
    "        a = c[i]\n",
    "    \n",
    "    cnext = (a + b) / 2.0\n",
    "    c.append(cnext)\n",
    "    i += 1\n",
    "\n",
    "print(\"\\nSolution:\\n x(%d) = %0.6f \\t f(x) = %0.7f\" %(i, c[i], f_x(c[i])))"
   ]
  },
  {
   "cell_type": "code",
   "execution_count": null,
   "metadata": {},
   "outputs": [],
   "source": []
  },
  {
   "cell_type": "code",
   "execution_count": null,
   "metadata": {},
   "outputs": [],
   "source": []
  }
 ],
 "metadata": {
  "kernelspec": {
   "display_name": "Python 3",
   "language": "python",
   "name": "python3"
  },
  "language_info": {
   "codemirror_mode": {
    "name": "ipython",
    "version": 2
   },
   "file_extension": ".py",
   "mimetype": "text/x-python",
   "name": "python",
   "nbconvert_exporter": "python",
   "pygments_lexer": "ipython2",
   "version": "2.7.12"
  }
 },
 "nbformat": 4,
 "nbformat_minor": 2
}
